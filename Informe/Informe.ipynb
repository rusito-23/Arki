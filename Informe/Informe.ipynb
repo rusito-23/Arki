{
 "cells": [
  {
   "cell_type": "markdown",
   "metadata": {},
   "source": [
    "# Arquitectura de Computadoras\n",
    "\n",
    "## Informe Laboratorio ARMv8 en SV\n",
    "\n",
    "### Integrantes\n",
    "\n",
    "- Andruskiewitsch, Igor\n",
    "- Lucero, Rodrigo\n",
    "- Orellana, Leonardo"
   ]
  },
  {
   "cell_type": "markdown",
   "metadata": {},
   "source": [
    "## Ejercicio 1: Integración y Test Básico\n",
    "\n",
    "Se realizó la integración del procesador con Pipeline a los módulos definidos en el Ejercicio 1 del\n",
    "Práctico 1, luego se probó el Test Básico del Práctico 1 (el cargado en el módulo imem).\n",
    "Como el procesador no tiene Hazard Control, el resultado obtenido no es el esperado.\n",
    "\n",
    "Esto pasa porque las instrucciónes estan compartiendo un mismo registro, entonces cuando el \n",
    "procesador ejecuta la primera instrucción, la siguiente instrucción tendría que esperar a que\n",
    "la primera escriba, pero como no espera, entonces toma el valor viejo del registro.\n",
    "\n",
    "Se realizaron los siguientes cambios :"
   ]
  },
  {
   "cell_type": "markdown",
   "metadata": {},
   "source": [
    "#### Código original :\n",
    "```\n",
    "\n",
    "#Cargar Registros en Memoria\n",
    "\n",
    "1  -  stur x0,[x0]\n",
    "2  -  stur x1,[x0,#8]\n",
    "3  -  stur x2,[x0,#16]\n",
    "4  -  stur x3,[x0,#24]\n",
    "5  -  stur x4,[x0,#32]\n",
    "6  -  stur x5,[x0,#40]\n",
    "7  -  stur x6,[x0,#48]\n",
    "\n",
    "# Lectura de memoria en los registros\n",
    "8  -  ldur x7,[x0]\n",
    "9  -  ldur x8,[x0,#8]\n",
    "10 -  ldur x9,[x0,#16]\n",
    "11 -  ldur x10,[x0,#24]\n",
    "12 -  ldur x11,[x0,#32]\n",
    "13 -  ldur x12,[x0,#40]\n",
    "14 -  ldur x13,[x0,#48]\n",
    "              \n",
    "# Sumatoria de los registros\n",
    "\n",
    "15 -  sub x14,x14,x14\n",
    "16 -  cbz x14, Loop\n",
    "17 -  sub x15,x0,x1\n",
    "18 -  Loop: add x15,x0,x1\n",
    "              \n",
    "# Carga del resultado de la sumatoria en memoria\n",
    "19 -  stur x15, [x0,#56] \n",
    "\n",
    "```"
   ]
  },
  {
   "cell_type": "markdown",
   "metadata": {},
   "source": [
    "\n",
    "##### Resultado Original  (primeros 7 registros del mem dump):"
   ]
  },
  {
   "cell_type": "markdown",
   "metadata": {},
   "source": [
    "```\n",
    "0000000000000000\n",
    "0000000000000001\n",
    "0000000000000002\n",
    "0000000000000003\n",
    "0000000000000004\n",
    "0000000000000005\n",
    "0000000000000006\n",
    "000000000000000F\n",
    "0000000000000000\n",
    "```"
   ]
  },
  {
   "cell_type": "markdown",
   "metadata": {},
   "source": [
    "```\n",
    "Lo que se puede apreciar en el código original, es  que exiten dependencia de datos, en la cual generan data hazard y esto pasa en las siguientes instrucciones : \n",
    "   \n",
    "    Hazar de Control (HC) : X14 15(MEM) 16(EXE)\n",
    "    \n",
    "    15 - SUB x14,x14,x14\n",
    "    16-  CBZ X14, Loop\n",
    "    \n",
    "    Hazar de datos (HD) :                                      \n",
    "                                        \n",
    "    18 - ADD X15, X0, X1\n",
    "    19 - STUR X15, [X0, #56]                \n",
    "                    \n",
    "    Hazar de datos (HD) :x15  18(WB) 19(MEM)    \n",
    "    \n",
    "```    "
   ]
  },
  {
   "cell_type": "markdown",
   "metadata": {},
   "source": [
    "Entonces, para poder arreglar este problema, se agrega los NOPS necesarios para poder arreglar estas dependencias:"
   ]
  },
  {
   "cell_type": "markdown",
   "metadata": {},
   "source": [
    "#### Código modificado:\n",
    "```\n",
    "1  -  stur x0,[x0]\n",
    "2  -  stur x1,[x0,#8]\n",
    "3  -  stur x2,[x0,#16]\n",
    "4  -  stur x3,[x0,#24]\n",
    "5  -  stur x4,[x0,#32]\n",
    "6  -  stur x5,[x0,#40]\n",
    "7  -  stur x6,[x0,#48]\n",
    "\n",
    "# Lectura de memoria en los registros\n",
    "8  -  ldur x7,[x0]\n",
    "9  -  ldur x8,[x0,#8]\n",
    "10 -  ldur x9,[x0,#16]\n",
    "11 -  ldur x10,[x0,#24]\n",
    "12 -  ldur x11,[x0,#32]\n",
    "13 -  ldur x12,[x0,#40]\n",
    "14 -  ldur x13,[x0,#48]\n",
    "              \n",
    "# Sumatoria de los registros\n",
    "\n",
    "15 -  sub x14,x14,x14\n",
    "16 -  cbz x14, Loop\n",
    "17 -  sub x15,x0,x1\n",
    "18 -  Loop: add x15,x0,x1\n",
    "19 -  NOP\n",
    "20 -  NOP\n",
    "              \n",
    "# Carga del resultado de la sumatoria en memoria\n",
    "21 -  stur x15, [x0,#56] \n",
    "```"
   ]
  },
  {
   "cell_type": "markdown",
   "metadata": {},
   "source": [
    "#### Resultado:\n",
    "```\n",
    "0000000000000000\n",
    "0000000000000001\n",
    "0000000000000002\n",
    "0000000000000003\n",
    "0000000000000004\n",
    "0000000000000005\n",
    "0000000000000006\n",
    "0000000000000001\n",
    "0000000000000000\n",
    "\n",
    "```"
   ]
  },
  {
   "cell_type": "markdown",
   "metadata": {},
   "source": [
    "# Análisis del código nuevo:\n",
    "\n",
    "Como podemos ver en las evidencias anteriores, el resultado obtenido en memoria no era el\n",
    "esperado. En la posición de memoria 7 vemos que se cargó el valor 0xF, cuando esperábamos\n",
    "0x1.\n",
    "\n",
    "Esto se debe a que la instrucción STUR x15, [x0,#56] , depende de la instrucción ADD X15,X0,X1 ,\n",
    "como los registros están inicializados cada uno con su índice (en este caso el X15 tiene el valor\n",
    "0xF), cuando hace el STUR, todavía no se guardó el resultado del ADD y usa el valor viejo del\n",
    "registro (0xF en vez de 0x1).\n",
    "\n",
    "Al agregar instrucciones NOP entre estas instrucciones, logramos que el resultado en memoria\n",
    "sea el esperado. En particular debemos agregar únicamente 2 NOP, ya que modificamos el\n",
    "módulo regfile para que se pueda leer un registro antes que haya sido efectivamente escrito, y\n",
    "esto le permite a la etapa decode, usar el valor que la instrucción anterior está escribiendo.\n",
    "Por otro lado, no hizo falta agregar NOPS entre la Carga de registros en Memoria y la Lectura de\n",
    "estos, ya que no ocurrían Data Hazards.\n",
    "\n",
    "\n",
    "# Análisis cantidad de ciclos de CLK:\n",
    " \n",
    " \n",
    "Antes de comenzar el análisis, es importante aclarar que la cantidad de ciclos de clock del\n",
    "TestBench al momento de correr el código era de 80 ciclos. Cada ciclo de clock de 10ps, el\n",
    "TestBench especificaba 20ps en reset, 800ps de ejecución y 20ps de Memory Dump.\n",
    "Para realizar el análisis fuimos modificando el valor de los ps de ejecución para ver si había algún\n",
    "cambio.\n",
    "Vimos que el código original tiene 19 instrucciones, el código modificado agrega dos\n",
    "instrucciones más (dos NOPS), luego tiene 21 instrucciones. Pero una de las instrucciones no se\n",
    "ejecuta, ya que se hace un BRANCH que la evita.\n",
    "Concluimos que necesitamos en total 24 ciclos de clock (5 para la primera instrucción y 19 que\n",
    "se van sumando con las instrucciones siguientes) en el micro con Pipeline. Es decir que\n",
    "necesitamos por lo menos 24 * 10ps = 240ps de ejecución para terminar correctamente el\n",
    "programa.\n",
    "Por otro lado, si usamos Single Cycle Processor, no podemos paralelizar la ejecución de las\n",
    "instrucciones, pero no necesitamos agregar las instrucciones NOP, luego tenemos 18\n",
    "instrucciones (no contamos la sub x15,x0,x1 , que no se ejecuta debido al branch).\n",
    "En total necesitamos 18 ciclos de clock, porque cada instrucción se corre en un único ciclo. Por\n",
    "lo tanto necesitamos por lo menos 18 * 10ps = 180ps para terminar correctamente la ejecución\n",
    "del programa."
   ]
  },
  {
   "cell_type": "markdown",
   "metadata": {},
   "source": [
    "## Ejercicio 2"
   ]
  },
  {
   "cell_type": "markdown",
   "metadata": {},
   "source": [
    "Antes de comenzar el análisis del funcionamiento del programa, tuvimos que modificar el código,\n",
    "ya que no cumplía con la ISA, porque usaba el registro XZR para el STUR.\n",
    "Realizamos el siguiente cambio para que la compilación sea exitosa:"
   ]
  },
  {
   "cell_type": "markdown",
   "metadata": {},
   "source": [
    "```\n",
    "1- SUB X23, X1, X1\n",
    "2- ADD X0, XZR, X4\n",
    "3- ADD X1, X0, X4\n",
    "4- ADD X2, X1, X4\n",
    "5- ADD X3, X2, X4\n",
    "6- STUR X0, [X23,0]\n",
    "7- STUR X1, [X23, #8]\n",
    "8- STUR X2, [X23, #16]\n",
    "9- STUR X3, [X23, #24]\n",
    "```"
   ]
  },
  {
   "cell_type": "markdown",
   "metadata": {},
   "source": [
    "## El código realiza lo siguiente:\n",
    "\n",
    "- Guarda el valor de X4 en X0, como cada registro se inicializa con su índice, luego X0 = 4.\n",
    "- Suma el valor de X4 con X0 y lo guarda en el registro X1, luego X1 = 8.\n",
    "- Suma el valor de X4 con X1 y lo guarda en el registro X2, luego X2 = 12.\n",
    "- Suma el valor de X4 con X2 y lo guarda en el registro X3, luego X3 = 16.\n",
    "- Finalmente guarda los valores de los registros desde el X0 hasta el X3 en las primeras 4 direcciones de memoria del bloque de memoria 0.\n",
    "\n",
    "- El resultado es el siguiente :"
   ]
  },
  {
   "cell_type": "markdown",
   "metadata": {},
   "source": [
    "\n",
    "```\n",
    "0000000000000004\n",
    "0000000000000004\n",
    "0000000000000008\n",
    "0000000000000009\n",
    "```"
   ]
  },
  {
   "cell_type": "markdown",
   "metadata": {},
   "source": [
    "Para que el resultado sea el correcto, se tienen que implentar la cantidad de NOP's necesarios para que todas las instrucciones puedan acceder al valor más reciente del registro. Entonces el código quedaría así :\n",
    "\n",
    "#### Código Modificado : \n",
    "\n",
    "```\n",
    "SUB X23, X1, X1\n",
    "ADD X0, XZR, X4\n",
    "NOP\n",
    "NOP\n",
    "ADD X1, X0, X4\n",
    "NOP\n",
    "NOP\n",
    "ADD X2, X1, X4\n",
    "NOP\n",
    "NOP\n",
    "ADD X3, X2, X4\n",
    "STUR X0, [X23,0]\n",
    "STUR X1, [X23, #8]\n",
    "STUR X2, [X23, #16]\n",
    "STUR X3, [X23, #24]\n",
    "```\n"
   ]
  },
  {
   "cell_type": "markdown",
   "metadata": {},
   "source": [
    "El nuevo resultado es el siguiente : \n",
    "\n",
    "```\n",
    "0000000000000004\n",
    "0000000000000008\n",
    "000000000000000C\n",
    "0000000000000010\n",
    "```"
   ]
  },
  {
   "cell_type": "markdown",
   "metadata": {},
   "source": [
    "## Ejercicio 3"
   ]
  },
  {
   "cell_type": "markdown",
   "metadata": {},
   "source": [
    "En este ejercicio vamos agregar instrucciones que no estan implementada en el microprocesador y que son las siguientes: ADDI y CBNZ\n",
    "\n",
    "## ADDI \n",
    "\n",
    "Como el procesador no reconoce la instruccion ADDI, la idea es poder modificar el ADD para que pueda reconocer números que sean inmediatos. Para ello, lo que se tuvo que hacer es modificar las siguientes entidades :\n",
    "\n",
    "\n",
    "### aludec.sv \n",
    "\n",
    "Como este módulo decide la operación que va a realizar la alu, dependiendo del aluop obtenido del maindec y de\n",
    "su opcode, tuvimos que modificar para que en el caso del opcode del ADDI, envíe una señal de control de suma.\n",
    "\n",
    "\n",
    "### maindec.sv  \n",
    "\n",
    "En este módulo, de entre otras cosas que especificamos (AluOp, ...) la más importante es ALUSrc que decide de \n",
    "donde va a tomar el operando la ALU.\n",
    "\n",
    "### signext.sv \n",
    "\n",
    "En este módulo agregamos la extensión de signo del inmediato del ADDI.\n",
    "\n",
    "\n",
    "## CBNZ \n",
    "\n",
    "### signext.sv\n",
    "\n",
    "En este módulo simplemente tomamos el inmediato necesario de la instrucción y hacemos la extesión de signo a 64 bits.\n",
    "\n",
    "### maindec\n",
    "\n",
    "Este módulo está encargado de especificar distintos comportamientos de las instrucciones, por lo que agregamos una salida de un bit, cuya funcionalidad es especificar que si está prendida, significa que hay que realizar un Branch if Not Zero, también modificamos el nombre de la antigua salida Branch por BranchZero, ya que esta ahora sirve únicamente para el CBZ.\n",
    "\n",
    "### controller.sv\n",
    "\n",
    "En éste módulo sólamente tomamos la nueva salida de maindec y la devolvemos. \n",
    "\n",
    "\n",
    "### datapath.sv\n",
    "\n",
    "Como el datapath está encargado de comunicar datos entre las stages en pipeline, tuvimos que hacer varias modificaciones, la idea del bit BranchNotZero es usarlo en el módulo *memory*, que decide si se va a realizar un branch, por lo tanto teníamos que recuperarlo del *controller* y enviarlo a través del pipeline a memory.\n",
    "Para esto tuvimos que modificar las palabras **ID_EX** y **EX_MEM** que se guardaban en los pipeline, agregándoles el bit, que se le asigna en el módulo *controller*. No hizo falta modificar el último stage (**MEM_WB**) ya que en ese momento ya se ejecutó el módulo *memory*.\n",
    "\n",
    "### memory.sv\n",
    "\n",
    "Como éste módulo decidía si se debía hacer un branch con el inmediato, tuvimos que modificar la lógica para que considere el bit de BranchNotZero.\n",
    "\n",
    "### processor_arm.sv\n",
    "\n",
    "Acá definimos BranchNotZero y se linkea el resultado del *controller* con el *datapath*.\n",
    "\n",
    "Aca podemos apreciar la modificación en todo el datapath :\n"
   ]
  },
  {
   "cell_type": "markdown",
   "metadata": {},
   "source": [
    "![BranchNotZero](https://i.ibb.co/Jqx26PP/Branch-Not-Zero.jpg)"
   ]
  }
 ],
 "metadata": {
  "kernelspec": {
   "display_name": "Python 3",
   "language": "python",
   "name": "python3"
  },
  "language_info": {
   "codemirror_mode": {
    "name": "ipython",
    "version": 3
   },
   "file_extension": ".py",
   "mimetype": "text/x-python",
   "name": "python",
   "nbconvert_exporter": "python",
   "pygments_lexer": "ipython3",
   "version": "3.7.4"
  }
 },
 "nbformat": 4,
 "nbformat_minor": 4
}
